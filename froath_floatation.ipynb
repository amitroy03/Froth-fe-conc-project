{
  "nbformat": 4,
  "nbformat_minor": 0,
  "metadata": {
    "colab": {
      "provenance": []
    },
    "kernelspec": {
      "name": "python3",
      "display_name": "Python 3"
    },
    "language_info": {
      "name": "python"
    }
  },
  "cells": [
    {
      "cell_type": "code",
      "execution_count": null,
      "metadata": {
        "id": "iXQrgER4qdeE"
      },
      "outputs": [],
      "source": [
        "import pandas as pd"
      ]
    },
    {
      "cell_type": "code",
      "source": [
        "df = pd.read_csv('/content/feed.csv')"
      ],
      "metadata": {
        "id": "Hv_ekK_Fqk_M"
      },
      "execution_count": null,
      "outputs": []
    },
    {
      "cell_type": "markdown",
      "source": [
        "*   The dataset contains iron concentrate at various time stamps. Using these concentration values, we intend to prepare a time series forecasting model which will help us in monitoring the iron concentration during froth flotation process.\n",
        "\n"
      ],
      "metadata": {
        "id": "sHwI9yGwSTqw"
      }
    },
    {
      "cell_type": "code",
      "source": [
        "df.head()"
      ],
      "metadata": {
        "colab": {
          "base_uri": "https://localhost:8080/",
          "height": 354
        },
        "id": "NK0Msr0lsFfF",
        "outputId": "c5765e90-d6ea-4b25-90fa-255eef9f1b75"
      },
      "execution_count": null,
      "outputs": [
        {
          "output_type": "execute_result",
          "data": {
            "text/plain": [
              "   Unnamed: 0   X1                 date  % Iron Feed  % Silica Feed  \\\n",
              "0           1  0.0  2017-03-10 01:02:00         55.2          16.98   \n",
              "1           2  1.0  2017-03-10 01:02:20         55.2          16.98   \n",
              "2           3  2.0  2017-03-10 01:02:40         55.2          16.98   \n",
              "3           4  3.0  2017-03-10 01:03:00         55.2          16.98   \n",
              "4           5  4.0  2017-03-10 01:03:20         55.2          16.98   \n",
              "\n",
              "   Starch Flow  Amina Flow  Ore Pulp Flow  Ore Pulp pH  Ore Pulp Density  \\\n",
              "0      3019.53     557.434        395.713      10.0664              1.74   \n",
              "1      3024.41     563.965        397.383      10.0672              1.74   \n",
              "2      3043.46     568.054        399.668      10.0680              1.74   \n",
              "3      3047.36     568.665        397.939      10.0689              1.74   \n",
              "4      3033.69     558.167        400.254      10.0697              1.74   \n",
              "\n",
              "   % Iron Concentrate  % Silica Concentrate  \n",
              "0           66.493242                  1.31  \n",
              "1           66.853733                  1.31  \n",
              "2           64.773804                  1.31  \n",
              "3           68.550271                  1.31  \n",
              "4           65.116564                  1.31  "
            ],
            "text/html": [
              "\n",
              "\n",
              "  <div id=\"df-380c1cc8-cd97-4b16-b4a6-455db90d1451\">\n",
              "    <div class=\"colab-df-container\">\n",
              "      <div>\n",
              "<style scoped>\n",
              "    .dataframe tbody tr th:only-of-type {\n",
              "        vertical-align: middle;\n",
              "    }\n",
              "\n",
              "    .dataframe tbody tr th {\n",
              "        vertical-align: top;\n",
              "    }\n",
              "\n",
              "    .dataframe thead th {\n",
              "        text-align: right;\n",
              "    }\n",
              "</style>\n",
              "<table border=\"1\" class=\"dataframe\">\n",
              "  <thead>\n",
              "    <tr style=\"text-align: right;\">\n",
              "      <th></th>\n",
              "      <th>Unnamed: 0</th>\n",
              "      <th>X1</th>\n",
              "      <th>date</th>\n",
              "      <th>% Iron Feed</th>\n",
              "      <th>% Silica Feed</th>\n",
              "      <th>Starch Flow</th>\n",
              "      <th>Amina Flow</th>\n",
              "      <th>Ore Pulp Flow</th>\n",
              "      <th>Ore Pulp pH</th>\n",
              "      <th>Ore Pulp Density</th>\n",
              "      <th>% Iron Concentrate</th>\n",
              "      <th>% Silica Concentrate</th>\n",
              "    </tr>\n",
              "  </thead>\n",
              "  <tbody>\n",
              "    <tr>\n",
              "      <th>0</th>\n",
              "      <td>1</td>\n",
              "      <td>0.0</td>\n",
              "      <td>2017-03-10 01:02:00</td>\n",
              "      <td>55.2</td>\n",
              "      <td>16.98</td>\n",
              "      <td>3019.53</td>\n",
              "      <td>557.434</td>\n",
              "      <td>395.713</td>\n",
              "      <td>10.0664</td>\n",
              "      <td>1.74</td>\n",
              "      <td>66.493242</td>\n",
              "      <td>1.31</td>\n",
              "    </tr>\n",
              "    <tr>\n",
              "      <th>1</th>\n",
              "      <td>2</td>\n",
              "      <td>1.0</td>\n",
              "      <td>2017-03-10 01:02:20</td>\n",
              "      <td>55.2</td>\n",
              "      <td>16.98</td>\n",
              "      <td>3024.41</td>\n",
              "      <td>563.965</td>\n",
              "      <td>397.383</td>\n",
              "      <td>10.0672</td>\n",
              "      <td>1.74</td>\n",
              "      <td>66.853733</td>\n",
              "      <td>1.31</td>\n",
              "    </tr>\n",
              "    <tr>\n",
              "      <th>2</th>\n",
              "      <td>3</td>\n",
              "      <td>2.0</td>\n",
              "      <td>2017-03-10 01:02:40</td>\n",
              "      <td>55.2</td>\n",
              "      <td>16.98</td>\n",
              "      <td>3043.46</td>\n",
              "      <td>568.054</td>\n",
              "      <td>399.668</td>\n",
              "      <td>10.0680</td>\n",
              "      <td>1.74</td>\n",
              "      <td>64.773804</td>\n",
              "      <td>1.31</td>\n",
              "    </tr>\n",
              "    <tr>\n",
              "      <th>3</th>\n",
              "      <td>4</td>\n",
              "      <td>3.0</td>\n",
              "      <td>2017-03-10 01:03:00</td>\n",
              "      <td>55.2</td>\n",
              "      <td>16.98</td>\n",
              "      <td>3047.36</td>\n",
              "      <td>568.665</td>\n",
              "      <td>397.939</td>\n",
              "      <td>10.0689</td>\n",
              "      <td>1.74</td>\n",
              "      <td>68.550271</td>\n",
              "      <td>1.31</td>\n",
              "    </tr>\n",
              "    <tr>\n",
              "      <th>4</th>\n",
              "      <td>5</td>\n",
              "      <td>4.0</td>\n",
              "      <td>2017-03-10 01:03:20</td>\n",
              "      <td>55.2</td>\n",
              "      <td>16.98</td>\n",
              "      <td>3033.69</td>\n",
              "      <td>558.167</td>\n",
              "      <td>400.254</td>\n",
              "      <td>10.0697</td>\n",
              "      <td>1.74</td>\n",
              "      <td>65.116564</td>\n",
              "      <td>1.31</td>\n",
              "    </tr>\n",
              "  </tbody>\n",
              "</table>\n",
              "</div>\n",
              "      <button class=\"colab-df-convert\" onclick=\"convertToInteractive('df-380c1cc8-cd97-4b16-b4a6-455db90d1451')\"\n",
              "              title=\"Convert this dataframe to an interactive table.\"\n",
              "              style=\"display:none;\">\n",
              "\n",
              "  <svg xmlns=\"http://www.w3.org/2000/svg\" height=\"24px\"viewBox=\"0 0 24 24\"\n",
              "       width=\"24px\">\n",
              "    <path d=\"M0 0h24v24H0V0z\" fill=\"none\"/>\n",
              "    <path d=\"M18.56 5.44l.94 2.06.94-2.06 2.06-.94-2.06-.94-.94-2.06-.94 2.06-2.06.94zm-11 1L8.5 8.5l.94-2.06 2.06-.94-2.06-.94L8.5 2.5l-.94 2.06-2.06.94zm10 10l.94 2.06.94-2.06 2.06-.94-2.06-.94-.94-2.06-.94 2.06-2.06.94z\"/><path d=\"M17.41 7.96l-1.37-1.37c-.4-.4-.92-.59-1.43-.59-.52 0-1.04.2-1.43.59L10.3 9.45l-7.72 7.72c-.78.78-.78 2.05 0 2.83L4 21.41c.39.39.9.59 1.41.59.51 0 1.02-.2 1.41-.59l7.78-7.78 2.81-2.81c.8-.78.8-2.07 0-2.86zM5.41 20L4 18.59l7.72-7.72 1.47 1.35L5.41 20z\"/>\n",
              "  </svg>\n",
              "      </button>\n",
              "\n",
              "\n",
              "\n",
              "    <div id=\"df-6538778e-46d1-4aa0-b878-8b11c5256c22\">\n",
              "      <button class=\"colab-df-quickchart\" onclick=\"quickchart('df-6538778e-46d1-4aa0-b878-8b11c5256c22')\"\n",
              "              title=\"Suggest charts.\"\n",
              "              style=\"display:none;\">\n",
              "\n",
              "<svg xmlns=\"http://www.w3.org/2000/svg\" height=\"24px\"viewBox=\"0 0 24 24\"\n",
              "     width=\"24px\">\n",
              "    <g>\n",
              "        <path d=\"M19 3H5c-1.1 0-2 .9-2 2v14c0 1.1.9 2 2 2h14c1.1 0 2-.9 2-2V5c0-1.1-.9-2-2-2zM9 17H7v-7h2v7zm4 0h-2V7h2v10zm4 0h-2v-4h2v4z\"/>\n",
              "    </g>\n",
              "</svg>\n",
              "      </button>\n",
              "    </div>\n",
              "\n",
              "<style>\n",
              "  .colab-df-quickchart {\n",
              "    background-color: #E8F0FE;\n",
              "    border: none;\n",
              "    border-radius: 50%;\n",
              "    cursor: pointer;\n",
              "    display: none;\n",
              "    fill: #1967D2;\n",
              "    height: 32px;\n",
              "    padding: 0 0 0 0;\n",
              "    width: 32px;\n",
              "  }\n",
              "\n",
              "  .colab-df-quickchart:hover {\n",
              "    background-color: #E2EBFA;\n",
              "    box-shadow: 0px 1px 2px rgba(60, 64, 67, 0.3), 0px 1px 3px 1px rgba(60, 64, 67, 0.15);\n",
              "    fill: #174EA6;\n",
              "  }\n",
              "\n",
              "  [theme=dark] .colab-df-quickchart {\n",
              "    background-color: #3B4455;\n",
              "    fill: #D2E3FC;\n",
              "  }\n",
              "\n",
              "  [theme=dark] .colab-df-quickchart:hover {\n",
              "    background-color: #434B5C;\n",
              "    box-shadow: 0px 1px 3px 1px rgba(0, 0, 0, 0.15);\n",
              "    filter: drop-shadow(0px 1px 2px rgba(0, 0, 0, 0.3));\n",
              "    fill: #FFFFFF;\n",
              "  }\n",
              "</style>\n",
              "\n",
              "    <script>\n",
              "      async function quickchart(key) {\n",
              "        const containerElement = document.querySelector('#' + key);\n",
              "        const charts = await google.colab.kernel.invokeFunction(\n",
              "            'suggestCharts', [key], {});\n",
              "      }\n",
              "    </script>\n",
              "\n",
              "      <script>\n",
              "\n",
              "function displayQuickchartButton(domScope) {\n",
              "  let quickchartButtonEl =\n",
              "    domScope.querySelector('#df-6538778e-46d1-4aa0-b878-8b11c5256c22 button.colab-df-quickchart');\n",
              "  quickchartButtonEl.style.display =\n",
              "    google.colab.kernel.accessAllowed ? 'block' : 'none';\n",
              "}\n",
              "\n",
              "        displayQuickchartButton(document);\n",
              "      </script>\n",
              "      <style>\n",
              "    .colab-df-container {\n",
              "      display:flex;\n",
              "      flex-wrap:wrap;\n",
              "      gap: 12px;\n",
              "    }\n",
              "\n",
              "    .colab-df-convert {\n",
              "      background-color: #E8F0FE;\n",
              "      border: none;\n",
              "      border-radius: 50%;\n",
              "      cursor: pointer;\n",
              "      display: none;\n",
              "      fill: #1967D2;\n",
              "      height: 32px;\n",
              "      padding: 0 0 0 0;\n",
              "      width: 32px;\n",
              "    }\n",
              "\n",
              "    .colab-df-convert:hover {\n",
              "      background-color: #E2EBFA;\n",
              "      box-shadow: 0px 1px 2px rgba(60, 64, 67, 0.3), 0px 1px 3px 1px rgba(60, 64, 67, 0.15);\n",
              "      fill: #174EA6;\n",
              "    }\n",
              "\n",
              "    [theme=dark] .colab-df-convert {\n",
              "      background-color: #3B4455;\n",
              "      fill: #D2E3FC;\n",
              "    }\n",
              "\n",
              "    [theme=dark] .colab-df-convert:hover {\n",
              "      background-color: #434B5C;\n",
              "      box-shadow: 0px 1px 3px 1px rgba(0, 0, 0, 0.15);\n",
              "      filter: drop-shadow(0px 1px 2px rgba(0, 0, 0, 0.3));\n",
              "      fill: #FFFFFF;\n",
              "    }\n",
              "  </style>\n",
              "\n",
              "      <script>\n",
              "        const buttonEl =\n",
              "          document.querySelector('#df-380c1cc8-cd97-4b16-b4a6-455db90d1451 button.colab-df-convert');\n",
              "        buttonEl.style.display =\n",
              "          google.colab.kernel.accessAllowed ? 'block' : 'none';\n",
              "\n",
              "        async function convertToInteractive(key) {\n",
              "          const element = document.querySelector('#df-380c1cc8-cd97-4b16-b4a6-455db90d1451');\n",
              "          const dataTable =\n",
              "            await google.colab.kernel.invokeFunction('convertToInteractive',\n",
              "                                                     [key], {});\n",
              "          if (!dataTable) return;\n",
              "\n",
              "          const docLinkHtml = 'Like what you see? Visit the ' +\n",
              "            '<a target=\"_blank\" href=https://colab.research.google.com/notebooks/data_table.ipynb>data table notebook</a>'\n",
              "            + ' to learn more about interactive tables.';\n",
              "          element.innerHTML = '';\n",
              "          dataTable['output_type'] = 'display_data';\n",
              "          await google.colab.output.renderOutput(dataTable, element);\n",
              "          const docLink = document.createElement('div');\n",
              "          docLink.innerHTML = docLinkHtml;\n",
              "          element.appendChild(docLink);\n",
              "        }\n",
              "      </script>\n",
              "    </div>\n",
              "  </div>\n"
            ]
          },
          "metadata": {},
          "execution_count": 141
        }
      ]
    },
    {
      "cell_type": "code",
      "source": [
        "df.shape"
      ],
      "metadata": {
        "colab": {
          "base_uri": "https://localhost:8080/"
        },
        "id": "eeFmTnACvCBd",
        "outputId": "5e54703d-0487-499c-b02e-fa00b526e023"
      },
      "execution_count": null,
      "outputs": [
        {
          "output_type": "execute_result",
          "data": {
            "text/plain": [
              "(589962, 12)"
            ]
          },
          "metadata": {},
          "execution_count": 142
        }
      ]
    },
    {
      "cell_type": "code",
      "source": [
        "df.info()"
      ],
      "metadata": {
        "colab": {
          "base_uri": "https://localhost:8080/"
        },
        "id": "SxwiGQQDvEsW",
        "outputId": "71556498-edce-46d9-f9f0-d4cbc5a66285"
      },
      "execution_count": null,
      "outputs": [
        {
          "output_type": "stream",
          "name": "stdout",
          "text": [
            "<class 'pandas.core.frame.DataFrame'>\n",
            "RangeIndex: 589962 entries, 0 to 589961\n",
            "Data columns (total 12 columns):\n",
            " #   Column                Non-Null Count   Dtype  \n",
            "---  ------                --------------   -----  \n",
            " 0   Unnamed: 0            589962 non-null  int64  \n",
            " 1   X1                    589962 non-null  float64\n",
            " 2   date                  589962 non-null  object \n",
            " 3   % Iron Feed           589962 non-null  float64\n",
            " 4   % Silica Feed         589962 non-null  float64\n",
            " 5   Starch Flow           589962 non-null  float64\n",
            " 6   Amina Flow            589962 non-null  float64\n",
            " 7   Ore Pulp Flow         589962 non-null  float64\n",
            " 8   Ore Pulp pH           589962 non-null  float64\n",
            " 9   Ore Pulp Density      589962 non-null  float64\n",
            " 10  % Iron Concentrate    589962 non-null  float64\n",
            " 11  % Silica Concentrate  589962 non-null  float64\n",
            "dtypes: float64(10), int64(1), object(1)\n",
            "memory usage: 54.0+ MB\n"
          ]
        }
      ]
    },
    {
      "cell_type": "code",
      "source": [
        "df.drop('Unnamed: 0', axis = 1, inplace = True)"
      ],
      "metadata": {
        "id": "IQ2Ez2LCvHPr"
      },
      "execution_count": null,
      "outputs": []
    },
    {
      "cell_type": "code",
      "source": [
        "df.drop('X1', axis = 1, inplace = True)"
      ],
      "metadata": {
        "id": "51j6xwUevbX_"
      },
      "execution_count": null,
      "outputs": []
    },
    {
      "cell_type": "code",
      "source": [
        "df.isna().sum()"
      ],
      "metadata": {
        "colab": {
          "base_uri": "https://localhost:8080/"
        },
        "id": "15WFAA5GvQFa",
        "outputId": "0a40b9d3-ac46-4a0b-e14a-0a7679a33435"
      },
      "execution_count": null,
      "outputs": [
        {
          "output_type": "execute_result",
          "data": {
            "text/plain": [
              "date                    0\n",
              "% Iron Feed             0\n",
              "% Silica Feed           0\n",
              "Starch Flow             0\n",
              "Amina Flow              0\n",
              "Ore Pulp Flow           0\n",
              "Ore Pulp pH             0\n",
              "Ore Pulp Density        0\n",
              "% Iron Concentrate      0\n",
              "% Silica Concentrate    0\n",
              "dtype: int64"
            ]
          },
          "metadata": {},
          "execution_count": 146
        }
      ]
    },
    {
      "cell_type": "code",
      "source": [
        "df['date']"
      ],
      "metadata": {
        "colab": {
          "base_uri": "https://localhost:8080/"
        },
        "id": "71lG4KKQvUU8",
        "outputId": "a4cbf27a-d920-4b63-c16d-eeb39325ee6d"
      },
      "execution_count": null,
      "outputs": [
        {
          "output_type": "execute_result",
          "data": {
            "text/plain": [
              "0         2017-03-10 01:02:00\n",
              "1         2017-03-10 01:02:20\n",
              "2         2017-03-10 01:02:40\n",
              "3         2017-03-10 01:03:00\n",
              "4         2017-03-10 01:03:20\n",
              "                 ...         \n",
              "589957    2017-08-06 20:34:20\n",
              "589958    2017-08-06 20:34:40\n",
              "589959    2017-08-06 20:35:00\n",
              "589960    2017-08-06 20:35:20\n",
              "589961    2017-08-06 20:35:40\n",
              "Name: date, Length: 589962, dtype: object"
            ]
          },
          "metadata": {},
          "execution_count": 147
        }
      ]
    },
    {
      "cell_type": "code",
      "source": [
        "df['date'].value_counts()"
      ],
      "metadata": {
        "id": "n0oqgOwd0Osn",
        "colab": {
          "base_uri": "https://localhost:8080/"
        },
        "outputId": "44952a7f-802e-4373-a386-e5248304d442"
      },
      "execution_count": null,
      "outputs": [
        {
          "output_type": "execute_result",
          "data": {
            "text/plain": [
              "2017-03-10 01:02:00    1\n",
              "2017-06-22 12:20:20    1\n",
              "2017-06-22 08:03:00    1\n",
              "2017-06-22 08:03:20    1\n",
              "2017-06-22 08:03:40    1\n",
              "                      ..\n",
              "2017-05-07 19:33:40    1\n",
              "2017-05-07 19:34:00    1\n",
              "2017-05-07 19:34:20    1\n",
              "2017-05-07 19:34:40    1\n",
              "2017-08-06 20:35:40    1\n",
              "Name: date, Length: 589962, dtype: int64"
            ]
          },
          "metadata": {},
          "execution_count": 148
        }
      ]
    },
    {
      "cell_type": "code",
      "source": [
        "df['date'] = pd.to_datetime(df['date'])\n",
        "unique_dates = df['date'].dt.date.unique()"
      ],
      "metadata": {
        "id": "N6k4UT0n8zt2"
      },
      "execution_count": null,
      "outputs": []
    },
    {
      "cell_type": "markdown",
      "source": [
        "*   There are values of iron concentration for 20 seconds interval for each day for 138 days.\n",
        "\n"
      ],
      "metadata": {
        "id": "_k3UMK3CSzGe"
      }
    },
    {
      "cell_type": "code",
      "source": [
        "len(unique_dates)"
      ],
      "metadata": {
        "colab": {
          "base_uri": "https://localhost:8080/"
        },
        "id": "-nMMTY53j0SS",
        "outputId": "cf089cbe-582c-44f0-d80d-e04de6afb63a"
      },
      "execution_count": null,
      "outputs": [
        {
          "output_type": "execute_result",
          "data": {
            "text/plain": [
              "138"
            ]
          },
          "metadata": {},
          "execution_count": 193
        }
      ]
    },
    {
      "cell_type": "code",
      "source": [
        "unique_dates[0]"
      ],
      "metadata": {
        "colab": {
          "base_uri": "https://localhost:8080/"
        },
        "id": "q-P3uxzg9JG_",
        "outputId": "203ad206-c327-4a5b-a709-0afed7329a7d"
      },
      "execution_count": null,
      "outputs": [
        {
          "output_type": "execute_result",
          "data": {
            "text/plain": [
              "datetime.date(2017, 3, 10)"
            ]
          },
          "metadata": {},
          "execution_count": 150
        }
      ]
    },
    {
      "cell_type": "markdown",
      "source": [
        "Making predictions on Fe concentratin\n"
      ],
      "metadata": {
        "id": "2UsGl5ZuFMMQ"
      }
    },
    {
      "cell_type": "markdown",
      "source": [
        "*   as the time stamps now are not monotonic as the iron concentration are constant for about an hour, we resample the data hourly.\n",
        "\n"
      ],
      "metadata": {
        "id": "RjB13sOGTMD9"
      }
    },
    {
      "cell_type": "code",
      "source": [
        "amit = pd.DataFrame()\n",
        "for i in unique_dates:\n",
        "  validation = df[df['date'].dt.date == i]\n",
        "  validation['date'] = pd.to_datetime(validation['date'])\n",
        "\n",
        "  validation['time_column'] = validation['date'].dt.time\n",
        "\n",
        "  validation['time_column'] = pd.to_datetime(validation['time_column'], format='%H:%M:%S')\n",
        "\n",
        "  validation.set_index('time_column', inplace=True)\n",
        "\n",
        "  validation_resampled = validation.resample('1Min').mean()\n",
        "\n",
        "  validation.drop('date', axis = 1, inplace = True)\n",
        "\n",
        "  val = validation\n",
        "  constant_intervals_val = val[val['% Silica Concentrate'] != val['% Silica Concentrate'].shift()]\n",
        "\n",
        "  constant_intervals_val['time_column'] = pd.date_range(start='1:00:00', periods=len(constant_intervals_val), freq='1H')\n",
        "\n",
        "  constant_intervals_val.set_index('time_column', inplace=True)\n",
        "\n",
        "  amit = pd.concat([amit, constant_intervals_val])"
      ],
      "metadata": {
        "id": "f0cdb0dOrDiU"
      },
      "execution_count": null,
      "outputs": []
    },
    {
      "cell_type": "code",
      "source": [
        "amit.index"
      ],
      "metadata": {
        "colab": {
          "base_uri": "https://localhost:8080/"
        },
        "id": "9fp4Te55sZcK",
        "outputId": "84e4b977-78a6-4e7e-b3d7-a1b69d530f08"
      },
      "execution_count": null,
      "outputs": [
        {
          "output_type": "execute_result",
          "data": {
            "text/plain": [
              "DatetimeIndex(['2023-07-11 01:00:00', '2023-07-11 02:00:00',\n",
              "               '2023-07-11 03:00:00', '2023-07-11 04:00:00',\n",
              "               '2023-07-11 05:00:00', '2023-07-11 06:00:00',\n",
              "               '2023-07-11 07:00:00', '2023-07-11 08:00:00',\n",
              "               '2023-07-11 09:00:00', '2023-07-11 10:00:00',\n",
              "               ...\n",
              "               '2023-07-26 10:00:00', '2023-07-26 11:00:00',\n",
              "               '2023-07-26 12:00:00', '2023-07-26 13:00:00',\n",
              "               '2023-07-26 14:00:00', '2023-07-26 15:00:00',\n",
              "               '2023-07-26 16:00:00', '2023-07-26 17:00:00',\n",
              "               '2023-07-26 18:00:00', '2023-07-26 19:00:00'],\n",
              "              dtype='datetime64[ns]', name='time_column', length=45686, freq=None)"
            ]
          },
          "metadata": {},
          "execution_count": 297
        }
      ]
    },
    {
      "cell_type": "code",
      "source": [
        "amit.head()"
      ],
      "metadata": {
        "colab": {
          "base_uri": "https://localhost:8080/",
          "height": 386
        },
        "id": "hwlxci6JtX-B",
        "outputId": "d97b89e3-85b0-46b6-a3a0-2ba9fd7e3687"
      },
      "execution_count": null,
      "outputs": [
        {
          "output_type": "execute_result",
          "data": {
            "text/plain": [
              "                     % Iron Feed  % Silica Feed  Starch Flow  Amina Flow  \\\n",
              "time_column                                                                \n",
              "2023-07-11 01:00:00         55.2          16.98     3019.530     557.434   \n",
              "2023-07-11 02:00:00         55.2          16.98     3170.410     539.673   \n",
              "2023-07-11 03:00:00         55.2          16.98     3365.650     573.517   \n",
              "2023-07-11 04:00:00         55.2          16.98     2693.750     592.133   \n",
              "2023-07-11 05:00:00         55.2          16.98     2352.216     601.807   \n",
              "\n",
              "                     Ore Pulp Flow  Ore Pulp pH  Ore Pulp Density  \\\n",
              "time_column                                                         \n",
              "2023-07-11 01:00:00        395.713     10.06640           1.74000   \n",
              "2023-07-11 02:00:00        399.697     10.15890           1.66910   \n",
              "2023-07-11 03:00:00        399.023     10.08600           1.70565   \n",
              "2023-07-11 04:00:00        409.204      9.94880           1.72472   \n",
              "2023-07-11 05:00:00        398.145      9.84375           1.75928   \n",
              "\n",
              "                     % Iron Concentrate  % Silica Concentrate  \n",
              "time_column                                                    \n",
              "2023-07-11 01:00:00           66.493242                  1.31  \n",
              "2023-07-11 02:00:00           66.695521                  1.11  \n",
              "2023-07-11 03:00:00           68.421170                  1.27  \n",
              "2023-07-11 04:00:00           66.403059                  1.36  \n",
              "2023-07-11 05:00:00           66.372875                  1.34  "
            ],
            "text/html": [
              "\n",
              "\n",
              "  <div id=\"df-babaf5b3-dcd3-498f-b2ab-7f9fc702ae13\">\n",
              "    <div class=\"colab-df-container\">\n",
              "      <div>\n",
              "<style scoped>\n",
              "    .dataframe tbody tr th:only-of-type {\n",
              "        vertical-align: middle;\n",
              "    }\n",
              "\n",
              "    .dataframe tbody tr th {\n",
              "        vertical-align: top;\n",
              "    }\n",
              "\n",
              "    .dataframe thead th {\n",
              "        text-align: right;\n",
              "    }\n",
              "</style>\n",
              "<table border=\"1\" class=\"dataframe\">\n",
              "  <thead>\n",
              "    <tr style=\"text-align: right;\">\n",
              "      <th></th>\n",
              "      <th>% Iron Feed</th>\n",
              "      <th>% Silica Feed</th>\n",
              "      <th>Starch Flow</th>\n",
              "      <th>Amina Flow</th>\n",
              "      <th>Ore Pulp Flow</th>\n",
              "      <th>Ore Pulp pH</th>\n",
              "      <th>Ore Pulp Density</th>\n",
              "      <th>% Iron Concentrate</th>\n",
              "      <th>% Silica Concentrate</th>\n",
              "    </tr>\n",
              "    <tr>\n",
              "      <th>time_column</th>\n",
              "      <th></th>\n",
              "      <th></th>\n",
              "      <th></th>\n",
              "      <th></th>\n",
              "      <th></th>\n",
              "      <th></th>\n",
              "      <th></th>\n",
              "      <th></th>\n",
              "      <th></th>\n",
              "    </tr>\n",
              "  </thead>\n",
              "  <tbody>\n",
              "    <tr>\n",
              "      <th>2023-07-11 01:00:00</th>\n",
              "      <td>55.2</td>\n",
              "      <td>16.98</td>\n",
              "      <td>3019.530</td>\n",
              "      <td>557.434</td>\n",
              "      <td>395.713</td>\n",
              "      <td>10.06640</td>\n",
              "      <td>1.74000</td>\n",
              "      <td>66.493242</td>\n",
              "      <td>1.31</td>\n",
              "    </tr>\n",
              "    <tr>\n",
              "      <th>2023-07-11 02:00:00</th>\n",
              "      <td>55.2</td>\n",
              "      <td>16.98</td>\n",
              "      <td>3170.410</td>\n",
              "      <td>539.673</td>\n",
              "      <td>399.697</td>\n",
              "      <td>10.15890</td>\n",
              "      <td>1.66910</td>\n",
              "      <td>66.695521</td>\n",
              "      <td>1.11</td>\n",
              "    </tr>\n",
              "    <tr>\n",
              "      <th>2023-07-11 03:00:00</th>\n",
              "      <td>55.2</td>\n",
              "      <td>16.98</td>\n",
              "      <td>3365.650</td>\n",
              "      <td>573.517</td>\n",
              "      <td>399.023</td>\n",
              "      <td>10.08600</td>\n",
              "      <td>1.70565</td>\n",
              "      <td>68.421170</td>\n",
              "      <td>1.27</td>\n",
              "    </tr>\n",
              "    <tr>\n",
              "      <th>2023-07-11 04:00:00</th>\n",
              "      <td>55.2</td>\n",
              "      <td>16.98</td>\n",
              "      <td>2693.750</td>\n",
              "      <td>592.133</td>\n",
              "      <td>409.204</td>\n",
              "      <td>9.94880</td>\n",
              "      <td>1.72472</td>\n",
              "      <td>66.403059</td>\n",
              "      <td>1.36</td>\n",
              "    </tr>\n",
              "    <tr>\n",
              "      <th>2023-07-11 05:00:00</th>\n",
              "      <td>55.2</td>\n",
              "      <td>16.98</td>\n",
              "      <td>2352.216</td>\n",
              "      <td>601.807</td>\n",
              "      <td>398.145</td>\n",
              "      <td>9.84375</td>\n",
              "      <td>1.75928</td>\n",
              "      <td>66.372875</td>\n",
              "      <td>1.34</td>\n",
              "    </tr>\n",
              "  </tbody>\n",
              "</table>\n",
              "</div>\n",
              "      <button class=\"colab-df-convert\" onclick=\"convertToInteractive('df-babaf5b3-dcd3-498f-b2ab-7f9fc702ae13')\"\n",
              "              title=\"Convert this dataframe to an interactive table.\"\n",
              "              style=\"display:none;\">\n",
              "\n",
              "  <svg xmlns=\"http://www.w3.org/2000/svg\" height=\"24px\"viewBox=\"0 0 24 24\"\n",
              "       width=\"24px\">\n",
              "    <path d=\"M0 0h24v24H0V0z\" fill=\"none\"/>\n",
              "    <path d=\"M18.56 5.44l.94 2.06.94-2.06 2.06-.94-2.06-.94-.94-2.06-.94 2.06-2.06.94zm-11 1L8.5 8.5l.94-2.06 2.06-.94-2.06-.94L8.5 2.5l-.94 2.06-2.06.94zm10 10l.94 2.06.94-2.06 2.06-.94-2.06-.94-.94-2.06-.94 2.06-2.06.94z\"/><path d=\"M17.41 7.96l-1.37-1.37c-.4-.4-.92-.59-1.43-.59-.52 0-1.04.2-1.43.59L10.3 9.45l-7.72 7.72c-.78.78-.78 2.05 0 2.83L4 21.41c.39.39.9.59 1.41.59.51 0 1.02-.2 1.41-.59l7.78-7.78 2.81-2.81c.8-.78.8-2.07 0-2.86zM5.41 20L4 18.59l7.72-7.72 1.47 1.35L5.41 20z\"/>\n",
              "  </svg>\n",
              "      </button>\n",
              "\n",
              "\n",
              "\n",
              "    <div id=\"df-42de869b-0dea-4031-b7c0-187b9e700b5d\">\n",
              "      <button class=\"colab-df-quickchart\" onclick=\"quickchart('df-42de869b-0dea-4031-b7c0-187b9e700b5d')\"\n",
              "              title=\"Suggest charts.\"\n",
              "              style=\"display:none;\">\n",
              "\n",
              "<svg xmlns=\"http://www.w3.org/2000/svg\" height=\"24px\"viewBox=\"0 0 24 24\"\n",
              "     width=\"24px\">\n",
              "    <g>\n",
              "        <path d=\"M19 3H5c-1.1 0-2 .9-2 2v14c0 1.1.9 2 2 2h14c1.1 0 2-.9 2-2V5c0-1.1-.9-2-2-2zM9 17H7v-7h2v7zm4 0h-2V7h2v10zm4 0h-2v-4h2v4z\"/>\n",
              "    </g>\n",
              "</svg>\n",
              "      </button>\n",
              "    </div>\n",
              "\n",
              "<style>\n",
              "  .colab-df-quickchart {\n",
              "    background-color: #E8F0FE;\n",
              "    border: none;\n",
              "    border-radius: 50%;\n",
              "    cursor: pointer;\n",
              "    display: none;\n",
              "    fill: #1967D2;\n",
              "    height: 32px;\n",
              "    padding: 0 0 0 0;\n",
              "    width: 32px;\n",
              "  }\n",
              "\n",
              "  .colab-df-quickchart:hover {\n",
              "    background-color: #E2EBFA;\n",
              "    box-shadow: 0px 1px 2px rgba(60, 64, 67, 0.3), 0px 1px 3px 1px rgba(60, 64, 67, 0.15);\n",
              "    fill: #174EA6;\n",
              "  }\n",
              "\n",
              "  [theme=dark] .colab-df-quickchart {\n",
              "    background-color: #3B4455;\n",
              "    fill: #D2E3FC;\n",
              "  }\n",
              "\n",
              "  [theme=dark] .colab-df-quickchart:hover {\n",
              "    background-color: #434B5C;\n",
              "    box-shadow: 0px 1px 3px 1px rgba(0, 0, 0, 0.15);\n",
              "    filter: drop-shadow(0px 1px 2px rgba(0, 0, 0, 0.3));\n",
              "    fill: #FFFFFF;\n",
              "  }\n",
              "</style>\n",
              "\n",
              "    <script>\n",
              "      async function quickchart(key) {\n",
              "        const containerElement = document.querySelector('#' + key);\n",
              "        const charts = await google.colab.kernel.invokeFunction(\n",
              "            'suggestCharts', [key], {});\n",
              "      }\n",
              "    </script>\n",
              "\n",
              "      <script>\n",
              "\n",
              "function displayQuickchartButton(domScope) {\n",
              "  let quickchartButtonEl =\n",
              "    domScope.querySelector('#df-42de869b-0dea-4031-b7c0-187b9e700b5d button.colab-df-quickchart');\n",
              "  quickchartButtonEl.style.display =\n",
              "    google.colab.kernel.accessAllowed ? 'block' : 'none';\n",
              "}\n",
              "\n",
              "        displayQuickchartButton(document);\n",
              "      </script>\n",
              "      <style>\n",
              "    .colab-df-container {\n",
              "      display:flex;\n",
              "      flex-wrap:wrap;\n",
              "      gap: 12px;\n",
              "    }\n",
              "\n",
              "    .colab-df-convert {\n",
              "      background-color: #E8F0FE;\n",
              "      border: none;\n",
              "      border-radius: 50%;\n",
              "      cursor: pointer;\n",
              "      display: none;\n",
              "      fill: #1967D2;\n",
              "      height: 32px;\n",
              "      padding: 0 0 0 0;\n",
              "      width: 32px;\n",
              "    }\n",
              "\n",
              "    .colab-df-convert:hover {\n",
              "      background-color: #E2EBFA;\n",
              "      box-shadow: 0px 1px 2px rgba(60, 64, 67, 0.3), 0px 1px 3px 1px rgba(60, 64, 67, 0.15);\n",
              "      fill: #174EA6;\n",
              "    }\n",
              "\n",
              "    [theme=dark] .colab-df-convert {\n",
              "      background-color: #3B4455;\n",
              "      fill: #D2E3FC;\n",
              "    }\n",
              "\n",
              "    [theme=dark] .colab-df-convert:hover {\n",
              "      background-color: #434B5C;\n",
              "      box-shadow: 0px 1px 3px 1px rgba(0, 0, 0, 0.15);\n",
              "      filter: drop-shadow(0px 1px 2px rgba(0, 0, 0, 0.3));\n",
              "      fill: #FFFFFF;\n",
              "    }\n",
              "  </style>\n",
              "\n",
              "      <script>\n",
              "        const buttonEl =\n",
              "          document.querySelector('#df-babaf5b3-dcd3-498f-b2ab-7f9fc702ae13 button.colab-df-convert');\n",
              "        buttonEl.style.display =\n",
              "          google.colab.kernel.accessAllowed ? 'block' : 'none';\n",
              "\n",
              "        async function convertToInteractive(key) {\n",
              "          const element = document.querySelector('#df-babaf5b3-dcd3-498f-b2ab-7f9fc702ae13');\n",
              "          const dataTable =\n",
              "            await google.colab.kernel.invokeFunction('convertToInteractive',\n",
              "                                                     [key], {});\n",
              "          if (!dataTable) return;\n",
              "\n",
              "          const docLinkHtml = 'Like what you see? Visit the ' +\n",
              "            '<a target=\"_blank\" href=https://colab.research.google.com/notebooks/data_table.ipynb>data table notebook</a>'\n",
              "            + ' to learn more about interactive tables.';\n",
              "          element.innerHTML = '';\n",
              "          dataTable['output_type'] = 'display_data';\n",
              "          await google.colab.output.renderOutput(dataTable, element);\n",
              "          const docLink = document.createElement('div');\n",
              "          docLink.innerHTML = docLinkHtml;\n",
              "          element.appendChild(docLink);\n",
              "        }\n",
              "      </script>\n",
              "    </div>\n",
              "  </div>\n"
            ]
          },
          "metadata": {},
          "execution_count": 300
        }
      ]
    },
    {
      "cell_type": "code",
      "source": [
        "time_diffs = amit.index.to_series().diff()\n",
        "\n",
        "is_equispaced = time_diffs.dt.total_seconds().nunique() == 1\n",
        "\n",
        "if is_equispaced:\n",
        "    print(\"The time series index is equispaced.\")\n",
        "else:\n",
        "    print(\"The time series index is not equispaced.\")"
      ],
      "metadata": {
        "colab": {
          "base_uri": "https://localhost:8080/"
        },
        "id": "IyBGTl69vrHW",
        "outputId": "73bfb1ce-41ee-4870-be8d-9d411712a32f"
      },
      "execution_count": null,
      "outputs": [
        {
          "output_type": "stream",
          "name": "stdout",
          "text": [
            "The time series index is not equispaced.\n"
          ]
        }
      ]
    },
    {
      "cell_type": "markdown",
      "source": [
        "*   the reason is there is jump from 23:00:00 to 00:01:00 at some points\n",
        "\n",
        "\n",
        "\n",
        "\n"
      ],
      "metadata": {
        "id": "5S1PyzxST04i"
      }
    },
    {
      "cell_type": "code",
      "source": [
        "amit.shape"
      ],
      "metadata": {
        "colab": {
          "base_uri": "https://localhost:8080/"
        },
        "id": "7sQ0Q-EzxNez",
        "outputId": "2b5d8cc6-c56d-4e53-fc5e-96da54b1a6d1"
      },
      "execution_count": null,
      "outputs": [
        {
          "output_type": "execute_result",
          "data": {
            "text/plain": [
              "(45686, 9)"
            ]
          },
          "metadata": {},
          "execution_count": 330
        }
      ]
    },
    {
      "cell_type": "markdown",
      "source": [
        "Making the time index monotonic."
      ],
      "metadata": {
        "id": "SVIBt5ybTwqu"
      }
    },
    {
      "cell_type": "code",
      "source": [
        "start_time = '2017-07-01 00:00:00'\n",
        "length = 45686\n",
        "time_index = pd.date_range(start=start_time, periods=length, freq='1H')\n",
        "\n",
        "print(time_index)"
      ],
      "metadata": {
        "colab": {
          "base_uri": "https://localhost:8080/"
        },
        "id": "LxtSxHI5xNR-",
        "outputId": "b527727e-7046-40d2-fe9c-f80ed3e6e7c9"
      },
      "execution_count": null,
      "outputs": [
        {
          "output_type": "stream",
          "name": "stdout",
          "text": [
            "DatetimeIndex(['2017-07-01 00:00:00', '2017-07-01 01:00:00',\n",
            "               '2017-07-01 02:00:00', '2017-07-01 03:00:00',\n",
            "               '2017-07-01 04:00:00', '2017-07-01 05:00:00',\n",
            "               '2017-07-01 06:00:00', '2017-07-01 07:00:00',\n",
            "               '2017-07-01 08:00:00', '2017-07-01 09:00:00',\n",
            "               ...\n",
            "               '2022-09-16 04:00:00', '2022-09-16 05:00:00',\n",
            "               '2022-09-16 06:00:00', '2022-09-16 07:00:00',\n",
            "               '2022-09-16 08:00:00', '2022-09-16 09:00:00',\n",
            "               '2022-09-16 10:00:00', '2022-09-16 11:00:00',\n",
            "               '2022-09-16 12:00:00', '2022-09-16 13:00:00'],\n",
            "              dtype='datetime64[ns]', length=45686, freq='H')\n"
          ]
        }
      ]
    },
    {
      "cell_type": "code",
      "source": [
        "amit.set_index(time_index, inplace=True)"
      ],
      "metadata": {
        "id": "mZ5l7GT9wMXO"
      },
      "execution_count": null,
      "outputs": []
    },
    {
      "cell_type": "code",
      "source": [
        "amit.head()"
      ],
      "metadata": {
        "colab": {
          "base_uri": "https://localhost:8080/",
          "height": 354
        },
        "id": "dCdsSWdFmbBW",
        "outputId": "3544ec19-af90-4e25-e2d7-9fbde38e9d78"
      },
      "execution_count": null,
      "outputs": [
        {
          "output_type": "execute_result",
          "data": {
            "text/plain": [
              "                     % Iron Feed  % Silica Feed  Starch Flow  Amina Flow  \\\n",
              "2017-07-01 00:00:00         55.2          16.98     3019.530     557.434   \n",
              "2017-07-01 01:00:00         55.2          16.98     3170.410     539.673   \n",
              "2017-07-01 02:00:00         55.2          16.98     3365.650     573.517   \n",
              "2017-07-01 03:00:00         55.2          16.98     2693.750     592.133   \n",
              "2017-07-01 04:00:00         55.2          16.98     2352.216     601.807   \n",
              "\n",
              "                     Ore Pulp Flow  Ore Pulp pH  Ore Pulp Density  \\\n",
              "2017-07-01 00:00:00        395.713     10.06640           1.74000   \n",
              "2017-07-01 01:00:00        399.697     10.15890           1.66910   \n",
              "2017-07-01 02:00:00        399.023     10.08600           1.70565   \n",
              "2017-07-01 03:00:00        409.204      9.94880           1.72472   \n",
              "2017-07-01 04:00:00        398.145      9.84375           1.75928   \n",
              "\n",
              "                     % Iron Concentrate  % Silica Concentrate  \n",
              "2017-07-01 00:00:00           66.493242                  1.31  \n",
              "2017-07-01 01:00:00           66.695521                  1.11  \n",
              "2017-07-01 02:00:00           68.421170                  1.27  \n",
              "2017-07-01 03:00:00           66.403059                  1.36  \n",
              "2017-07-01 04:00:00           66.372875                  1.34  "
            ],
            "text/html": [
              "\n",
              "\n",
              "  <div id=\"df-6674b8c7-48b0-4b2a-9503-720edc114575\">\n",
              "    <div class=\"colab-df-container\">\n",
              "      <div>\n",
              "<style scoped>\n",
              "    .dataframe tbody tr th:only-of-type {\n",
              "        vertical-align: middle;\n",
              "    }\n",
              "\n",
              "    .dataframe tbody tr th {\n",
              "        vertical-align: top;\n",
              "    }\n",
              "\n",
              "    .dataframe thead th {\n",
              "        text-align: right;\n",
              "    }\n",
              "</style>\n",
              "<table border=\"1\" class=\"dataframe\">\n",
              "  <thead>\n",
              "    <tr style=\"text-align: right;\">\n",
              "      <th></th>\n",
              "      <th>% Iron Feed</th>\n",
              "      <th>% Silica Feed</th>\n",
              "      <th>Starch Flow</th>\n",
              "      <th>Amina Flow</th>\n",
              "      <th>Ore Pulp Flow</th>\n",
              "      <th>Ore Pulp pH</th>\n",
              "      <th>Ore Pulp Density</th>\n",
              "      <th>% Iron Concentrate</th>\n",
              "      <th>% Silica Concentrate</th>\n",
              "    </tr>\n",
              "  </thead>\n",
              "  <tbody>\n",
              "    <tr>\n",
              "      <th>2017-07-01 00:00:00</th>\n",
              "      <td>55.2</td>\n",
              "      <td>16.98</td>\n",
              "      <td>3019.530</td>\n",
              "      <td>557.434</td>\n",
              "      <td>395.713</td>\n",
              "      <td>10.06640</td>\n",
              "      <td>1.74000</td>\n",
              "      <td>66.493242</td>\n",
              "      <td>1.31</td>\n",
              "    </tr>\n",
              "    <tr>\n",
              "      <th>2017-07-01 01:00:00</th>\n",
              "      <td>55.2</td>\n",
              "      <td>16.98</td>\n",
              "      <td>3170.410</td>\n",
              "      <td>539.673</td>\n",
              "      <td>399.697</td>\n",
              "      <td>10.15890</td>\n",
              "      <td>1.66910</td>\n",
              "      <td>66.695521</td>\n",
              "      <td>1.11</td>\n",
              "    </tr>\n",
              "    <tr>\n",
              "      <th>2017-07-01 02:00:00</th>\n",
              "      <td>55.2</td>\n",
              "      <td>16.98</td>\n",
              "      <td>3365.650</td>\n",
              "      <td>573.517</td>\n",
              "      <td>399.023</td>\n",
              "      <td>10.08600</td>\n",
              "      <td>1.70565</td>\n",
              "      <td>68.421170</td>\n",
              "      <td>1.27</td>\n",
              "    </tr>\n",
              "    <tr>\n",
              "      <th>2017-07-01 03:00:00</th>\n",
              "      <td>55.2</td>\n",
              "      <td>16.98</td>\n",
              "      <td>2693.750</td>\n",
              "      <td>592.133</td>\n",
              "      <td>409.204</td>\n",
              "      <td>9.94880</td>\n",
              "      <td>1.72472</td>\n",
              "      <td>66.403059</td>\n",
              "      <td>1.36</td>\n",
              "    </tr>\n",
              "    <tr>\n",
              "      <th>2017-07-01 04:00:00</th>\n",
              "      <td>55.2</td>\n",
              "      <td>16.98</td>\n",
              "      <td>2352.216</td>\n",
              "      <td>601.807</td>\n",
              "      <td>398.145</td>\n",
              "      <td>9.84375</td>\n",
              "      <td>1.75928</td>\n",
              "      <td>66.372875</td>\n",
              "      <td>1.34</td>\n",
              "    </tr>\n",
              "  </tbody>\n",
              "</table>\n",
              "</div>\n",
              "      <button class=\"colab-df-convert\" onclick=\"convertToInteractive('df-6674b8c7-48b0-4b2a-9503-720edc114575')\"\n",
              "              title=\"Convert this dataframe to an interactive table.\"\n",
              "              style=\"display:none;\">\n",
              "\n",
              "  <svg xmlns=\"http://www.w3.org/2000/svg\" height=\"24px\"viewBox=\"0 0 24 24\"\n",
              "       width=\"24px\">\n",
              "    <path d=\"M0 0h24v24H0V0z\" fill=\"none\"/>\n",
              "    <path d=\"M18.56 5.44l.94 2.06.94-2.06 2.06-.94-2.06-.94-.94-2.06-.94 2.06-2.06.94zm-11 1L8.5 8.5l.94-2.06 2.06-.94-2.06-.94L8.5 2.5l-.94 2.06-2.06.94zm10 10l.94 2.06.94-2.06 2.06-.94-2.06-.94-.94-2.06-.94 2.06-2.06.94z\"/><path d=\"M17.41 7.96l-1.37-1.37c-.4-.4-.92-.59-1.43-.59-.52 0-1.04.2-1.43.59L10.3 9.45l-7.72 7.72c-.78.78-.78 2.05 0 2.83L4 21.41c.39.39.9.59 1.41.59.51 0 1.02-.2 1.41-.59l7.78-7.78 2.81-2.81c.8-.78.8-2.07 0-2.86zM5.41 20L4 18.59l7.72-7.72 1.47 1.35L5.41 20z\"/>\n",
              "  </svg>\n",
              "      </button>\n",
              "\n",
              "\n",
              "\n",
              "    <div id=\"df-cc5f4ce7-f757-406d-8b47-2664dc6689d1\">\n",
              "      <button class=\"colab-df-quickchart\" onclick=\"quickchart('df-cc5f4ce7-f757-406d-8b47-2664dc6689d1')\"\n",
              "              title=\"Suggest charts.\"\n",
              "              style=\"display:none;\">\n",
              "\n",
              "<svg xmlns=\"http://www.w3.org/2000/svg\" height=\"24px\"viewBox=\"0 0 24 24\"\n",
              "     width=\"24px\">\n",
              "    <g>\n",
              "        <path d=\"M19 3H5c-1.1 0-2 .9-2 2v14c0 1.1.9 2 2 2h14c1.1 0 2-.9 2-2V5c0-1.1-.9-2-2-2zM9 17H7v-7h2v7zm4 0h-2V7h2v10zm4 0h-2v-4h2v4z\"/>\n",
              "    </g>\n",
              "</svg>\n",
              "      </button>\n",
              "    </div>\n",
              "\n",
              "<style>\n",
              "  .colab-df-quickchart {\n",
              "    background-color: #E8F0FE;\n",
              "    border: none;\n",
              "    border-radius: 50%;\n",
              "    cursor: pointer;\n",
              "    display: none;\n",
              "    fill: #1967D2;\n",
              "    height: 32px;\n",
              "    padding: 0 0 0 0;\n",
              "    width: 32px;\n",
              "  }\n",
              "\n",
              "  .colab-df-quickchart:hover {\n",
              "    background-color: #E2EBFA;\n",
              "    box-shadow: 0px 1px 2px rgba(60, 64, 67, 0.3), 0px 1px 3px 1px rgba(60, 64, 67, 0.15);\n",
              "    fill: #174EA6;\n",
              "  }\n",
              "\n",
              "  [theme=dark] .colab-df-quickchart {\n",
              "    background-color: #3B4455;\n",
              "    fill: #D2E3FC;\n",
              "  }\n",
              "\n",
              "  [theme=dark] .colab-df-quickchart:hover {\n",
              "    background-color: #434B5C;\n",
              "    box-shadow: 0px 1px 3px 1px rgba(0, 0, 0, 0.15);\n",
              "    filter: drop-shadow(0px 1px 2px rgba(0, 0, 0, 0.3));\n",
              "    fill: #FFFFFF;\n",
              "  }\n",
              "</style>\n",
              "\n",
              "    <script>\n",
              "      async function quickchart(key) {\n",
              "        const containerElement = document.querySelector('#' + key);\n",
              "        const charts = await google.colab.kernel.invokeFunction(\n",
              "            'suggestCharts', [key], {});\n",
              "      }\n",
              "    </script>\n",
              "\n",
              "      <script>\n",
              "\n",
              "function displayQuickchartButton(domScope) {\n",
              "  let quickchartButtonEl =\n",
              "    domScope.querySelector('#df-cc5f4ce7-f757-406d-8b47-2664dc6689d1 button.colab-df-quickchart');\n",
              "  quickchartButtonEl.style.display =\n",
              "    google.colab.kernel.accessAllowed ? 'block' : 'none';\n",
              "}\n",
              "\n",
              "        displayQuickchartButton(document);\n",
              "      </script>\n",
              "      <style>\n",
              "    .colab-df-container {\n",
              "      display:flex;\n",
              "      flex-wrap:wrap;\n",
              "      gap: 12px;\n",
              "    }\n",
              "\n",
              "    .colab-df-convert {\n",
              "      background-color: #E8F0FE;\n",
              "      border: none;\n",
              "      border-radius: 50%;\n",
              "      cursor: pointer;\n",
              "      display: none;\n",
              "      fill: #1967D2;\n",
              "      height: 32px;\n",
              "      padding: 0 0 0 0;\n",
              "      width: 32px;\n",
              "    }\n",
              "\n",
              "    .colab-df-convert:hover {\n",
              "      background-color: #E2EBFA;\n",
              "      box-shadow: 0px 1px 2px rgba(60, 64, 67, 0.3), 0px 1px 3px 1px rgba(60, 64, 67, 0.15);\n",
              "      fill: #174EA6;\n",
              "    }\n",
              "\n",
              "    [theme=dark] .colab-df-convert {\n",
              "      background-color: #3B4455;\n",
              "      fill: #D2E3FC;\n",
              "    }\n",
              "\n",
              "    [theme=dark] .colab-df-convert:hover {\n",
              "      background-color: #434B5C;\n",
              "      box-shadow: 0px 1px 3px 1px rgba(0, 0, 0, 0.15);\n",
              "      filter: drop-shadow(0px 1px 2px rgba(0, 0, 0, 0.3));\n",
              "      fill: #FFFFFF;\n",
              "    }\n",
              "  </style>\n",
              "\n",
              "      <script>\n",
              "        const buttonEl =\n",
              "          document.querySelector('#df-6674b8c7-48b0-4b2a-9503-720edc114575 button.colab-df-convert');\n",
              "        buttonEl.style.display =\n",
              "          google.colab.kernel.accessAllowed ? 'block' : 'none';\n",
              "\n",
              "        async function convertToInteractive(key) {\n",
              "          const element = document.querySelector('#df-6674b8c7-48b0-4b2a-9503-720edc114575');\n",
              "          const dataTable =\n",
              "            await google.colab.kernel.invokeFunction('convertToInteractive',\n",
              "                                                     [key], {});\n",
              "          if (!dataTable) return;\n",
              "\n",
              "          const docLinkHtml = 'Like what you see? Visit the ' +\n",
              "            '<a target=\"_blank\" href=https://colab.research.google.com/notebooks/data_table.ipynb>data table notebook</a>'\n",
              "            + ' to learn more about interactive tables.';\n",
              "          element.innerHTML = '';\n",
              "          dataTable['output_type'] = 'display_data';\n",
              "          await google.colab.output.renderOutput(dataTable, element);\n",
              "          const docLink = document.createElement('div');\n",
              "          docLink.innerHTML = docLinkHtml;\n",
              "          element.appendChild(docLink);\n",
              "        }\n",
              "      </script>\n",
              "    </div>\n",
              "  </div>\n"
            ]
          },
          "metadata": {},
          "execution_count": 334
        }
      ]
    },
    {
      "cell_type": "markdown",
      "source": [
        "Visualising the Fe concentration"
      ],
      "metadata": {
        "id": "JnkYEusyPYpm"
      }
    },
    {
      "cell_type": "code",
      "source": [
        "import matplotlib.pyplot as plt"
      ],
      "metadata": {
        "id": "gN4FuKCnPYJl"
      },
      "execution_count": null,
      "outputs": []
    },
    {
      "cell_type": "code",
      "source": [
        "amit['% Iron Concentrate'].plot()"
      ],
      "metadata": {
        "colab": {
          "base_uri": "https://localhost:8080/",
          "height": 447
        },
        "id": "4bCFo61TPfDp",
        "outputId": "298da0b1-661a-4c14-b9f8-f1c2840f28ae"
      },
      "execution_count": null,
      "outputs": [
        {
          "output_type": "execute_result",
          "data": {
            "text/plain": [
              "<Axes: >"
            ]
          },
          "metadata": {},
          "execution_count": 416
        },
        {
          "output_type": "display_data",
          "data": {
            "text/plain": [
              "<Figure size 640x480 with 1 Axes>"
            ],
            "image/png": "[encoded data removed]"
          },
          "metadata": {}
        }
      ]
    },
    {
      "cell_type": "markdown",
      "source": [
        "*  it is difficult to comment about stationality of the data through visiual inspection.\n",
        "Therefore, performing ADFuller test\n",
        "\n"
      ],
      "metadata": {
        "id": "Dihwt6WtPvlf"
      }
    },
    {
      "cell_type": "markdown",
      "source": [
        "Checking for stationality"
      ],
      "metadata": {
        "id": "lcQ1XxXTLtcr"
      }
    },
    {
      "cell_type": "code",
      "source": [
        "from statsmodels.tsa.stattools import adfuller\n",
        "\n",
        "dftest = adfuller(amit['% Iron Concentrate']\n",
        "                , autolag = 'AIC')\n",
        "\n",
        "print('P-value is ', dftest[1])"
      ],
      "metadata": {
        "colab": {
          "base_uri": "https://localhost:8080/"
        },
        "id": "l9H8x1BqLwkm",
        "outputId": "e1f9e185-c1ef-4f95-a266-34c4d6096563"
      },
      "execution_count": null,
      "outputs": [
        {
          "output_type": "stream",
          "name": "stdout",
          "text": [
            "P-value is  4.6431036145561357e-17\n"
          ]
        }
      ]
    },
    {
      "cell_type": "markdown",
      "source": [
        "* p value is less than 0.05, therefore the time series is stationary\n"
      ],
      "metadata": {
        "id": "mLt8amaeOfN0"
      }
    },
    {
      "cell_type": "code",
      "source": [
        "# d = 0"
      ],
      "metadata": {
        "id": "MImxAflytzeW"
      },
      "execution_count": null,
      "outputs": []
    },
    {
      "cell_type": "code",
      "source": [
        "from statsmodels.graphics.tsaplots import plot_pacf, plot_acf"
      ],
      "metadata": {
        "id": "dSGnJ1FTMR8b"
      },
      "execution_count": null,
      "outputs": []
    },
    {
      "cell_type": "markdown",
      "source": [
        "Performing AR"
      ],
      "metadata": {
        "id": "Eey9npkGMhH3"
      }
    },
    {
      "cell_type": "code",
      "source": [
        "pacf = plot_pacf(amit['% Iron Concentrate'], lags = 10)"
      ],
      "metadata": {
        "colab": {
          "base_uri": "https://localhost:8080/",
          "height": 507
        },
        "id": "81NZAXfFMfcy",
        "outputId": "79c82620-4795-45d0-8cfa-28aa539e0a9f"
      },
      "execution_count": null,
      "outputs": [
        {
          "output_type": "stream",
          "name": "stderr",
          "text": [
            "/usr/local/lib/python3.10/dist-packages/statsmodels/graphics/tsaplots.py:348: FutureWarning: The default method 'yw' can produce PACF values outside of the [-1,1] interval. After 0.13, the default will change tounadjusted Yule-Walker ('ywm'). You can use this method now by setting method='ywm'.\n",
            "  warnings.warn(\n"
          ]
        },
        {
          "output_type": "display_data",
          "data": {
            "text/plain": [
              "<Figure size 640x480 with 1 Axes>"
            ],
            "image/png": "[encoded data removed]"
          },
          "metadata": {}
        }
      ]
    },
    {
      "cell_type": "markdown",
      "source": [
        "*  PACF (partial auto correlation factor) measures the correlation of a time lag with the current time value of the variable.\n",
        "Therefore, p is equal to 1.\n",
        "\n"
      ],
      "metadata": {
        "id": "1A6q7AeyOthJ"
      }
    },
    {
      "cell_type": "code",
      "source": [
        "amit.isna().sum()"
      ],
      "metadata": {
        "colab": {
          "base_uri": "https://localhost:8080/"
        },
        "id": "xokXsFb5ndJz",
        "outputId": "cc403481-9147-4050-a90f-3f0e84535a18"
      },
      "execution_count": null,
      "outputs": [
        {
          "output_type": "execute_result",
          "data": {
            "text/plain": [
              "% Iron Feed             0\n",
              "% Silica Feed           0\n",
              "Starch Flow             0\n",
              "Amina Flow              0\n",
              "Ore Pulp Flow           0\n",
              "Ore Pulp pH             0\n",
              "Ore Pulp Density        0\n",
              "% Iron Concentrate      0\n",
              "% Silica Concentrate    0\n",
              "dtype: int64"
            ]
          },
          "metadata": {},
          "execution_count": 340
        }
      ]
    },
    {
      "cell_type": "code",
      "source": [
        "amit.shape"
      ],
      "metadata": {
        "colab": {
          "base_uri": "https://localhost:8080/"
        },
        "id": "aw_nE2B0n_ss",
        "outputId": "54b751d5-9eb5-49fa-a1b1-fdfb4171a095"
      },
      "execution_count": null,
      "outputs": [
        {
          "output_type": "execute_result",
          "data": {
            "text/plain": [
              "(45686, 9)"
            ]
          },
          "metadata": {},
          "execution_count": 341
        }
      ]
    },
    {
      "cell_type": "markdown",
      "source": [
        "Preparation for Model Training"
      ],
      "metadata": {
        "id": "CoL7UktrULhZ"
      }
    },
    {
      "cell_type": "code",
      "source": [
        "train_size = int(len(amit) * 0.8)\n",
        "train_data = amit.iloc[:train_size]\n",
        "test_data = amit.iloc[train_size:]"
      ],
      "metadata": {
        "id": "dA2p3Pu_9shv"
      },
      "execution_count": null,
      "outputs": []
    },
    {
      "cell_type": "code",
      "source": [
        "xtrain = train_data.drop(['% Iron Concentrate'], axis = 1)\n",
        "y_fe_train = train_data['% Iron Concentrate']"
      ],
      "metadata": {
        "id": "sOumueEhx8sp"
      },
      "execution_count": null,
      "outputs": []
    },
    {
      "cell_type": "code",
      "source": [
        "xtest = test_data.drop(['% Iron Concentrate'], axis = 1)\n",
        "y_fe_test = test_data['% Iron Concentrate']"
      ],
      "metadata": {
        "id": "TA5XWoqRw-OS"
      },
      "execution_count": null,
      "outputs": []
    },
    {
      "cell_type": "code",
      "source": [
        "from sklearn.preprocessing import StandardScaler\n",
        "scale= StandardScaler()\n",
        "scale.fit(xtrain)\n",
        "xtrain_norm = scale.transform(xtrain)\n",
        "xtest_norm = scale.transform(xtest)"
      ],
      "metadata": {
        "id": "ETVsItxcHqdm"
      },
      "execution_count": null,
      "outputs": []
    },
    {
      "cell_type": "code",
      "source": [
        "print(xtrain_norm.std())\n",
        "print(xtest_norm.std())"
      ],
      "metadata": {
        "colab": {
          "base_uri": "https://localhost:8080/"
        },
        "id": "FfHDTlyKQKic",
        "outputId": "265e96bb-b0fa-4637-fdd7-58022c3dd0e2"
      },
      "execution_count": null,
      "outputs": [
        {
          "output_type": "stream",
          "name": "stdout",
          "text": [
            "1.0\n",
            "1.341393414867972\n"
          ]
        }
      ]
    },
    {
      "cell_type": "code",
      "source": [
        "from statsmodels.tsa.arima.model import ARIMA\n",
        "from sklearn.metrics import mean_squared_error"
      ],
      "metadata": {
        "id": "vGBxZFoqycUt"
      },
      "execution_count": null,
      "outputs": []
    },
    {
      "cell_type": "markdown",
      "source": [
        "Auto Regressive Model"
      ],
      "metadata": {
        "id": "hP5gHl68A9HB"
      }
    },
    {
      "cell_type": "code",
      "source": [
        "model_ar = ARIMA(y_fe_train, order=(3, 0, 0), exog=xtrain_norm)\n",
        "model_fit_ar = model_ar.fit(method_kwargs={'maxiter': 50})"
      ],
      "metadata": {
        "id": "EOlnu24WxZV5"
      },
      "execution_count": null,
      "outputs": []
    },
    {
      "cell_type": "code",
      "source": [
        "model_fit_ar.mle_retvals"
      ],
      "metadata": {
        "colab": {
          "base_uri": "https://localhost:8080/"
        },
        "id": "bcAXARjzQteM",
        "outputId": "b6c39987-1610-48e5-e58b-269593daacce"
      },
      "execution_count": null,
      "outputs": [
        {
          "output_type": "execute_result",
          "data": {
            "text/plain": [
              "{'fopt': 1.5148969962363337,\n",
              " 'gopt': array([ 2.29127828e-07, -3.12372350e-07,  2.61946020e-07,  1.39501743e-06,\n",
              "         7.07045533e-06, -1.81024085e-06,  6.21027674e-06,  4.43658443e-06,\n",
              "        -7.91184895e-06,  5.00754993e-07,  3.95417032e-07, -1.26323396e-06,\n",
              "         1.30897515e-06]),\n",
              " 'fcalls': 350,\n",
              " 'warnflag': 0,\n",
              " 'converged': True,\n",
              " 'iterations': 21}"
            ]
          },
          "metadata": {},
          "execution_count": 427
        }
      ]
    },
    {
      "cell_type": "code",
      "source": [
        "predictions_ar = model_fit_ar.predict(start=len(y_fe_train), end=len(y_fe_train) + len(y_fe_test) - 1, exog=xtest_norm)"
      ],
      "metadata": {
        "id": "VZj0a3C8yqqG"
      },
      "execution_count": null,
      "outputs": []
    },
    {
      "cell_type": "code",
      "source": [
        "predictions_ar"
      ],
      "metadata": {
        "colab": {
          "base_uri": "https://localhost:8080/"
        },
        "id": "55X7YiUWE2K_",
        "outputId": "913b7832-b3bc-48f4-e5ff-e06ce0273b76"
      },
      "execution_count": null,
      "outputs": [
        {
          "output_type": "execute_result",
          "data": {
            "text/plain": [
              "2021-08-31 20:00:00    62.954995\n",
              "2021-08-31 21:00:00    64.168217\n",
              "2021-08-31 22:00:00    64.384042\n",
              "2021-08-31 23:00:00    64.299196\n",
              "2021-09-01 00:00:00    64.309756\n",
              "                         ...    \n",
              "2022-09-16 09:00:00    63.835071\n",
              "2022-09-16 10:00:00    63.958396\n",
              "2022-09-16 11:00:00    63.783755\n",
              "2022-09-16 12:00:00    64.216719\n",
              "2022-09-16 13:00:00    63.981778\n",
              "Freq: H, Name: predicted_mean, Length: 9138, dtype: float64"
            ]
          },
          "metadata": {},
          "execution_count": 429
        }
      ]
    },
    {
      "cell_type": "code",
      "source": [
        "mean_squared_error(y_fe_test, predictions_ar, squared=False)"
      ],
      "metadata": {
        "id": "nHK_FvWED7Yr",
        "colab": {
          "base_uri": "https://localhost:8080/"
        },
        "outputId": "1b433c8b-d93c-4d22-b8bc-16a988fb17c1"
      },
      "execution_count": null,
      "outputs": [
        {
          "output_type": "execute_result",
          "data": {
            "text/plain": [
              "1.265753411273158"
            ]
          },
          "metadata": {},
          "execution_count": 431
        }
      ]
    },
    {
      "cell_type": "code",
      "source": [
        "y_fe_test"
      ],
      "metadata": {
        "colab": {
          "base_uri": "https://localhost:8080/"
        },
        "id": "Y52qZSwJ0GHJ",
        "outputId": "a180f734-766a-41e5-f63c-1b51854ef536"
      },
      "execution_count": null,
      "outputs": [
        {
          "output_type": "execute_result",
          "data": {
            "text/plain": [
              "2021-08-31 20:00:00    63.736818\n",
              "2021-08-31 21:00:00    63.395545\n",
              "2021-08-31 22:00:00    63.253064\n",
              "2021-08-31 23:00:00    64.701262\n",
              "2021-09-01 00:00:00    64.744680\n",
              "                         ...    \n",
              "2022-09-16 09:00:00    63.815565\n",
              "2022-09-16 10:00:00    64.379714\n",
              "2022-09-16 11:00:00    64.356319\n",
              "2022-09-16 12:00:00    65.298416\n",
              "2022-09-16 13:00:00    63.722241\n",
              "Freq: H, Name: % Iron Concentrate, Length: 9138, dtype: float64"
            ]
          },
          "metadata": {},
          "execution_count": 432
        }
      ]
    },
    {
      "cell_type": "code",
      "source": [
        "plt.plot(y_fe_test, color = 'green')\n",
        "plt.plot(predictions_ar, color = 'red')"
      ],
      "metadata": {
        "colab": {
          "base_uri": "https://localhost:8080/",
          "height": 447
        },
        "id": "MFoTLvjyZNnm",
        "outputId": "065590fe-616c-4e63-8543-c17b6c9aaaa8"
      },
      "execution_count": null,
      "outputs": [
        {
          "output_type": "execute_result",
          "data": {
            "text/plain": [
              "[<matplotlib.lines.Line2D at 0x7f5b4ab0df60>]"
            ]
          },
          "metadata": {},
          "execution_count": 433
        },
        {
          "output_type": "display_data",
          "data": {
            "text/plain": [
              "<Figure size 640x480 with 1 Axes>"
            ],
            "image/png": "[encoded data removed]"
          },
          "metadata": {}
        }
      ]
    },
    {
      "cell_type": "markdown",
      "source": [
        "Moving Average Model"
      ],
      "metadata": {
        "id": "WdCCvSYjNjP-"
      }
    },
    {
      "cell_type": "code",
      "source": [
        "acf = plot_acf(amit['% Iron Concentrate'], lags = 10)"
      ],
      "metadata": {
        "id": "WaKClIkUHCvk",
        "colab": {
          "base_uri": "https://localhost:8080/",
          "height": 452
        },
        "outputId": "fe315c1b-cb51-4d3a-976d-490c0ec9d4fa"
      },
      "execution_count": null,
      "outputs": [
        {
          "output_type": "display_data",
          "data": {
            "text/plain": [
              "<Figure size 640x480 with 1 Axes>"
            ],
            "image/png": "[encoded data removed]"
          },
          "metadata": {}
        }
      ]
    },
    {
      "cell_type": "markdown",
      "source": [
        "*   it seems that a lot of previous lags contribute directly or indirectly to the current time variable.\n",
        "Taking only 10 lags\n",
        "\n",
        "\n",
        "\n"
      ],
      "metadata": {
        "id": "_y-xWaCsTAEK"
      }
    },
    {
      "cell_type": "code",
      "source": [
        "model_ma = ARIMA(y_fe_train, order=(0, 0, 2), exog=xtrain_norm)\n",
        "model_fit_ma = model_ma.fit(method_kwargs={'maxiter': 50})"
      ],
      "metadata": {
        "id": "cEYhbvcQV20n"
      },
      "execution_count": null,
      "outputs": []
    },
    {
      "cell_type": "code",
      "source": [
        "model_fit_ma.mle_retvals"
      ],
      "metadata": {
        "colab": {
          "base_uri": "https://localhost:8080/"
        },
        "id": "gm8tgLlYTogn",
        "outputId": "ce6e6a36-a72a-47ba-e491-2ca015b4a6ab"
      },
      "execution_count": null,
      "outputs": [
        {
          "output_type": "execute_result",
          "data": {
            "text/plain": [
              "{'fopt': 1.5776189023860439,\n",
              " 'gopt': array([ 1.13242748e-09, -3.61932706e-07,  8.52207194e-08, -2.69460010e-06,\n",
              "        -8.75655104e-07, -6.05360206e-07, -5.98721073e-07, -7.92543808e-07,\n",
              "         4.10182999e-07,  6.74504896e-07, -2.92210700e-08, -2.30844233e-06]),\n",
              " 'fcalls': 247,\n",
              " 'warnflag': 0,\n",
              " 'converged': True,\n",
              " 'iterations': 17}"
            ]
          },
          "metadata": {},
          "execution_count": 436
        }
      ]
    },
    {
      "cell_type": "code",
      "source": [
        "predictions_ma = model_fit_ma.predict(start=len(y_fe_train), end=len(y_fe_train) + len(y_fe_test) - 1, exog=xtest_norm)"
      ],
      "metadata": {
        "id": "gArXoDUWN7K1"
      },
      "execution_count": null,
      "outputs": []
    },
    {
      "cell_type": "code",
      "source": [
        "predictions_ma"
      ],
      "metadata": {
        "colab": {
          "base_uri": "https://localhost:8080/"
        },
        "id": "dQtH5wxRN90j",
        "outputId": "639a166e-84cb-43c0-f719-69e084f021aa"
      },
      "execution_count": null,
      "outputs": [
        {
          "output_type": "execute_result",
          "data": {
            "text/plain": [
              "2021-08-31 20:00:00    62.962703\n",
              "2021-08-31 21:00:00    64.380587\n",
              "2021-08-31 22:00:00    64.395693\n",
              "2021-08-31 23:00:00    64.306168\n",
              "2021-09-01 00:00:00    64.340326\n",
              "                         ...    \n",
              "2022-09-16 09:00:00    63.728763\n",
              "2022-09-16 10:00:00    63.831401\n",
              "2022-09-16 11:00:00    63.662961\n",
              "2022-09-16 12:00:00    64.115612\n",
              "2022-09-16 13:00:00    63.842074\n",
              "Freq: H, Name: predicted_mean, Length: 9138, dtype: float64"
            ]
          },
          "metadata": {},
          "execution_count": 438
        }
      ]
    },
    {
      "cell_type": "code",
      "source": [
        "mean_squared_error(y_fe_test, predictions_ma, squared=False)"
      ],
      "metadata": {
        "colab": {
          "base_uri": "https://localhost:8080/"
        },
        "id": "hZsbatIYN-an",
        "outputId": "eedccbd4-ac5f-4bce-c66a-9010cba71b8a"
      },
      "execution_count": null,
      "outputs": [
        {
          "output_type": "execute_result",
          "data": {
            "text/plain": [
              "1.2677807976263291"
            ]
          },
          "metadata": {},
          "execution_count": 439
        }
      ]
    },
    {
      "cell_type": "code",
      "source": [
        "plt.plot(y_fe_test)\n",
        "plt.plot(predictions_ma, color = 'red')"
      ],
      "metadata": {
        "colab": {
          "base_uri": "https://localhost:8080/",
          "height": 447
        },
        "id": "OybbbTGWYiK2",
        "outputId": "fa1ff6d3-afce-4029-aa12-ce577a49b833"
      },
      "execution_count": null,
      "outputs": [
        {
          "output_type": "execute_result",
          "data": {
            "text/plain": [
              "[<matplotlib.lines.Line2D at 0x7f5b4aa0e0e0>]"
            ]
          },
          "metadata": {},
          "execution_count": 440
        },
        {
          "output_type": "display_data",
          "data": {
            "text/plain": [
              "<Figure size 640x480 with 1 Axes>"
            ],
            "image/png": "[encoded data removed]"
          },
          "metadata": {}
        }
      ]
    },
    {
      "cell_type": "markdown",
      "source": [
        "ARIMA Model"
      ],
      "metadata": {
        "id": "HjoqpvXNXfd_"
      }
    },
    {
      "cell_type": "code",
      "source": [
        "model_arima = ARIMA(y_fe_train, order=(3, 0, 2), exog=xtrain_norm)\n",
        "model_fit_arima = model_arima.fit(method_kwargs={'maxiter': 100})"
      ],
      "metadata": {
        "id": "jQVOHUlpUT_L"
      },
      "execution_count": null,
      "outputs": []
    },
    {
      "cell_type": "code",
      "source": [
        "model_fit_arima.mle_retvals"
      ],
      "metadata": {
        "colab": {
          "base_uri": "https://localhost:8080/"
        },
        "id": "b4qVeKbqXsYw",
        "outputId": "6f56ba69-969a-48cc-dfec-2cc6585559b5"
      },
      "execution_count": null,
      "outputs": [
        {
          "output_type": "execute_result",
          "data": {
            "text/plain": [
              "{'fopt': 1.4485322587431035,\n",
              " 'gopt': array([ 1.97364347e-06,  1.69688708e-06, -9.64761604e-06,  1.82047710e-06,\n",
              "        -4.40774084e-06, -9.87818716e-06, -5.72808467e-06,  1.03779207e-05,\n",
              "         2.61479727e-06, -4.99356112e-07, -4.84059459e-06, -5.01510167e-05,\n",
              "        -9.87536719e-06,  1.10165210e-06, -2.86856983e-05]),\n",
              " 'fcalls': 1120,\n",
              " 'warnflag': 0,\n",
              " 'converged': True,\n",
              " 'iterations': 62}"
            ]
          },
          "metadata": {},
          "execution_count": 443
        }
      ]
    },
    {
      "cell_type": "code",
      "source": [
        "predictions_arima = model_fit_arima.predict(start=len(y_fe_train), end=len(y_fe_train) + len(y_fe_test) - 1, exog=xtest_norm)"
      ],
      "metadata": {
        "id": "eytJJhYnXzvX"
      },
      "execution_count": null,
      "outputs": []
    },
    {
      "cell_type": "code",
      "source": [
        "predictions_arima"
      ],
      "metadata": {
        "colab": {
          "base_uri": "https://localhost:8080/"
        },
        "id": "MEN_qOIjX64P",
        "outputId": "bab497f9-3723-4d00-b952-2ff10cc01e32"
      },
      "execution_count": null,
      "outputs": [
        {
          "output_type": "execute_result",
          "data": {
            "text/plain": [
              "2021-08-31 20:00:00    64.388773\n",
              "2021-08-31 21:00:00    66.233361\n",
              "2021-08-31 22:00:00    66.256432\n",
              "2021-08-31 23:00:00    66.264991\n",
              "2021-09-01 00:00:00    66.126031\n",
              "                         ...    \n",
              "2022-09-16 09:00:00    64.256583\n",
              "2022-09-16 10:00:00    64.541222\n",
              "2022-09-16 11:00:00    64.326719\n",
              "2022-09-16 12:00:00    64.898857\n",
              "2022-09-16 13:00:00    64.616945\n",
              "Freq: H, Name: predicted_mean, Length: 9138, dtype: float64"
            ]
          },
          "metadata": {},
          "execution_count": 445
        }
      ]
    },
    {
      "cell_type": "code",
      "source": [
        "mean_squared_error(y_fe_test, predictions_arima, squared=False)"
      ],
      "metadata": {
        "colab": {
          "base_uri": "https://localhost:8080/"
        },
        "id": "zawDfu8GX9Tl",
        "outputId": "d1714726-41e9-4743-8058-b9a5b855e5e7"
      },
      "execution_count": null,
      "outputs": [
        {
          "output_type": "execute_result",
          "data": {
            "text/plain": [
              "1.279353778618915"
            ]
          },
          "metadata": {},
          "execution_count": 447
        }
      ]
    },
    {
      "cell_type": "code",
      "source": [
        "plt.plot(y_fe_test)\n",
        "plt.plot(predictions_arima, color = 'red')"
      ],
      "metadata": {
        "colab": {
          "base_uri": "https://localhost:8080/",
          "height": 447
        },
        "id": "cfyvWTZWYdrk",
        "outputId": "376f96aa-4247-4b51-b9b7-1fd02afde659"
      },
      "execution_count": null,
      "outputs": [
        {
          "output_type": "execute_result",
          "data": {
            "text/plain": [
              "[<matplotlib.lines.Line2D at 0x7f5b4aaa4400>]"
            ]
          },
          "metadata": {},
          "execution_count": 449
        },
        {
          "output_type": "display_data",
          "data": {
            "text/plain": [
              "<Figure size 640x480 with 1 Axes>"
            ],
            "image/png": "[encoded data removed]"
          },
          "metadata": {}
        }
      ]
    },
    {
      "cell_type": "code",
      "source": [
        "amit['% Iron Concentrate'].min()"
      ],
      "metadata": {
        "colab": {
          "base_uri": "https://localhost:8080/"
        },
        "id": "9gjiZ6ED9-CG",
        "outputId": "daff3315-51b8-425e-a671-531fe3f66bec"
      },
      "execution_count": null,
      "outputs": [
        {
          "output_type": "execute_result",
          "data": {
            "text/plain": [
              "59.0146561465307"
            ]
          },
          "metadata": {},
          "execution_count": 414
        }
      ]
    },
    {
      "cell_type": "code",
      "source": [
        "amit['% Iron Concentrate'].max()"
      ],
      "metadata": {
        "colab": {
          "base_uri": "https://localhost:8080/"
        },
        "id": "7bVi1enI_7VK",
        "outputId": "55560259-eead-4294-ee4f-09d087791de5"
      },
      "execution_count": null,
      "outputs": [
        {
          "output_type": "execute_result",
          "data": {
            "text/plain": [
              "69.2781413605185"
            ]
          },
          "metadata": {},
          "execution_count": 415
        }
      ]
    },
    {
      "cell_type": "markdown",
      "source": [
        "*   The average value of iron concentration is 64.\n",
        "*   The minimum value of iron concentration is 59.\n",
        "*   The maximum value of iron concentration is 69.\n",
        "\n"
      ],
      "metadata": {
        "id": "vVRmlfk7Uoac"
      }
    },
    {
      "cell_type": "markdown",
      "source": [
        "The root mean squared errors are as follows:-\n",
        "\n",
        "*   AR model : 1.265\n",
        "*   MA model : 1.267\n",
        "*   ARIMA model : 1.27\n"
      ],
      "metadata": {
        "id": "BZUlZMUJVF7p"
      }
    },
    {
      "cell_type": "markdown",
      "source": [
        "A rmse of 1.2 is asceptable when the values are in 60s.\n",
        "We select AR model as the best performing model, though the performances are comparable."
      ],
      "metadata": {
        "id": "JrUavtdfVldc"
      }
    }
  ]
}